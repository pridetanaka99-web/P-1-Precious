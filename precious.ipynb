{
 "cells": [
  {
   "cell_type": "code",
   "execution_count": null,
   "id": "2d14c825",
   "metadata": {},
   "outputs": [],
   "source": [
    "# Constants (by convention, written in uppercase)\n",
    "PI = 3.14159\n",
    "MAX_USERS = 100\n",
    "\n",
    "# Variables\n",
    "radius = 5\n",
    "user_count = 42\n",
    "username = \"Precious\"\n",
    "\n",
    "# Calculations using variables and constants\n",
    "area = PI * radius ** 2\n",
    "remaining_slots = MAX_USERS - user_count\n",
    "\n",
    "# Output using print()\n",
    "print(\"Welcome,\", username)\n",
    "print(\"The area of the circle is:\", area)\n",
    "print(\"Remaining user slots:\", remaining_slots)"
   ]
  }
 ],
 "metadata": {
  "language_info": {
   "name": "python"
  }
 },
 "nbformat": 4,
 "nbformat_minor": 5
}
